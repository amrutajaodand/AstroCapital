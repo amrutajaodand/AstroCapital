{
  "nbformat": 4,
  "nbformat_minor": 0,
  "metadata": {
    "colab": {
      "name": "AstroCapital data to html.ipynb",
      "version": "0.3.2",
      "provenance": [],
      "collapsed_sections": [],
      "include_colab_link": true
    },
    "kernelspec": {
      "name": "python3",
      "display_name": "Python 3"
    }
  },
  "cells": [
    {
      "cell_type": "markdown",
      "metadata": {
        "id": "view-in-github",
        "colab_type": "text"
      },
      "source": [
        "[View in Colaboratory](https://colab.research.google.com/github/ZackAkil/AstroCapital/blob/master/AstroCapital_data_to_html.ipynb)"
      ]
    },
    {
      "metadata": {
        "id": "WUhVugGXxGG3",
        "colab_type": "code",
        "colab": {}
      },
      "cell_type": "code",
      "source": [
        "# Install the PyDrive wrapper & import libraries.\n",
        "# This only needs to be done once per notebook.\n",
        "!pip install -U -q PyDrive\n",
        "from pydrive.auth import GoogleAuth\n",
        "from pydrive.drive import GoogleDrive\n",
        "from google.colab import auth\n",
        "from oauth2client.client import GoogleCredentials"
      ],
      "execution_count": 0,
      "outputs": []
    },
    {
      "metadata": {
        "id": "gRUjTpBiyGBU",
        "colab_type": "code",
        "colab": {}
      },
      "cell_type": "code",
      "source": [
        "# Authenticate and create the PyDrive client.\n",
        "# This only needs to be done once per notebook.\n",
        "auth.authenticate_user()\n",
        "gauth = GoogleAuth()\n",
        "gauth.credentials = GoogleCredentials.get_application_default()\n",
        "drive = GoogleDrive(gauth)"
      ],
      "execution_count": 0,
      "outputs": []
    },
    {
      "metadata": {
        "id": "XmsgottNy1OI",
        "colab_type": "code",
        "colab": {}
      },
      "cell_type": "code",
      "source": [
        "# Download a file based on its file ID.\n",
        "#\n",
        "# A file ID looks like: laggVyWshwcyP6kEI-y_W3P8D26sz\n",
        "file_id = '1lX-L8kMHRk80LISaozDDpdVBIKEnQrpx'\n",
        "downloaded = drive.CreateFile({'id': file_id})\n",
        "_ = downloaded.GetContentString()"
      ],
      "execution_count": 0,
      "outputs": []
    },
    {
      "metadata": {
        "id": "-ux1nWvVyWiw",
        "colab_type": "code",
        "colab": {}
      },
      "cell_type": "code",
      "source": [
        "import pandas as pd\n",
        "import io"
      ],
      "execution_count": 0,
      "outputs": []
    },
    {
      "metadata": {
        "id": "X5Nz_SY_1ioR",
        "colab_type": "code",
        "colab": {}
      },
      "cell_type": "code",
      "source": [
        "df = pd.read_csv(io.StringIO(downloaded.GetContentString()))"
      ],
      "execution_count": 0,
      "outputs": []
    },
    {
      "metadata": {
        "id": "sQQbOVS6y_o-",
        "colab_type": "code",
        "colab": {
          "base_uri": "https://localhost:8080/",
          "height": 770
        },
        "outputId": "8e18bb31-82e5-4871-96b2-93c5cbaa5002"
      },
      "cell_type": "code",
      "source": [
        "df.head()"
      ],
      "execution_count": 81,
      "outputs": [
        {
          "output_type": "execute_result",
          "data": {
            "text/html": [
              "<div>\n",
              "<style scoped>\n",
              "    .dataframe tbody tr th:only-of-type {\n",
              "        vertical-align: middle;\n",
              "    }\n",
              "\n",
              "    .dataframe tbody tr th {\n",
              "        vertical-align: top;\n",
              "    }\n",
              "\n",
              "    .dataframe thead th {\n",
              "        text-align: right;\n",
              "    }\n",
              "</style>\n",
              "<table border=\"1\" class=\"dataframe\">\n",
              "  <thead>\n",
              "    <tr style=\"text-align: right;\">\n",
              "      <th></th>\n",
              "      <th>Timestamp</th>\n",
              "      <th>What's your field of research?</th>\n",
              "      <th>What's your expertise?</th>\n",
              "      <th>Have you used public observational datasets before?</th>\n",
              "      <th>Which public observational datasets have you used before?</th>\n",
              "      <th>Any public pre-processed datasets not mentioned above?</th>\n",
              "      <th>Any published datasets not mentioned above?</th>\n",
              "      <th>Have you used public simulated datasets before?</th>\n",
              "      <th>Which public simulated datasets have you used before?</th>\n",
              "      <th>If you have created any simulated data and want to share it on our central hub, please share the links or contacts below</th>\n",
              "      <th>Data Visualization</th>\n",
              "      <th>Data Analysis</th>\n",
              "      <th>Editors (code, paper, presentation,...)</th>\n",
              "      <th>Management</th>\n",
              "      <th>Anything else?</th>\n",
              "      <th>What do you want to see in the central hub?  Please feel free to write as many things as you want!</th>\n",
              "      <th>If you could recommend any new techs to someone, what would it be? Feel free to explain why!</th>\n",
              "    </tr>\n",
              "  </thead>\n",
              "  <tbody>\n",
              "    <tr>\n",
              "      <th>0</th>\n",
              "      <td>2018/08/09 3:26:09 pm EET</td>\n",
              "      <td>Observational;Theoretical</td>\n",
              "      <td>Data handling (extraction, integration, stream...</td>\n",
              "      <td>Yes</td>\n",
              "      <td>https://irsa.ipac.caltech.edu/applications/Gator/</td>\n",
              "      <td>Nope</td>\n",
              "      <td>Nope</td>\n",
              "      <td>No</td>\n",
              "      <td>NaN</td>\n",
              "      <td>NaN</td>\n",
              "      <td>matplotlib (Python);plot.ly (Python);D3js (Jav...</td>\n",
              "      <td>pandas (Python)</td>\n",
              "      <td>nano;Google docs;Jupyter Notebook;Visual Studi...</td>\n",
              "      <td>Slack;Trello;Toggl;Google Calendar;GitHub;Asan...</td>\n",
              "      <td>NaN</td>\n",
              "      <td>Simple, step-by-step wikis for getting started...</td>\n",
              "      <td>Git/Github, and a few syntaxes: Python, SQL, m...</td>\n",
              "    </tr>\n",
              "    <tr>\n",
              "      <th>1</th>\n",
              "      <td>2018/08/09 3:30:01 pm EET</td>\n",
              "      <td>Simulations</td>\n",
              "      <td>High performance Computing</td>\n",
              "      <td>No</td>\n",
              "      <td>NaN</td>\n",
              "      <td>NaN</td>\n",
              "      <td>NaN</td>\n",
              "      <td>No</td>\n",
              "      <td>NaN</td>\n",
              "      <td>NaN</td>\n",
              "      <td>matplotlib (Python)</td>\n",
              "      <td>pandas (Python);keras (python);tensorflow (pyt...</td>\n",
              "      <td>Microsoft Office;Google docs;Jupyter Notebook;...</td>\n",
              "      <td>Slack;Google Calendar;GitHub</td>\n",
              "      <td>NaN</td>\n",
              "      <td>NaN</td>\n",
              "      <td>NaN</td>\n",
              "    </tr>\n",
              "    <tr>\n",
              "      <th>2</th>\n",
              "      <td>2018/08/09 3:46:21 pm EET</td>\n",
              "      <td>Simulations</td>\n",
              "      <td>high-redshift galaxies at far infrared and sub...</td>\n",
              "      <td>Yes</td>\n",
              "      <td>SDSS (https://www.sdss.org/), Herschel (http:/...</td>\n",
              "      <td>NaN</td>\n",
              "      <td>NaN</td>\n",
              "      <td>Yes</td>\n",
              "      <td>Hubble Frontier Fields lens models (https://ar...</td>\n",
              "      <td>NaN</td>\n",
              "      <td>matplotlib (Python);seaborn (Python);DS9;Aladi...</td>\n",
              "      <td>sklearn (Python);scipy (Python);pandas (Python...</td>\n",
              "      <td>Microsoft Office;Overleaf;Mendeley;Jupyter Not...</td>\n",
              "      <td>Slack;Google Calendar</td>\n",
              "      <td>NaN</td>\n",
              "      <td>articles about good practices in code writing,...</td>\n",
              "      <td>NaN</td>\n",
              "    </tr>\n",
              "    <tr>\n",
              "      <th>3</th>\n",
              "      <td>2018/08/09 3:49:43 pm EET</td>\n",
              "      <td>Observational</td>\n",
              "      <td>Quasar Absorption systems</td>\n",
              "      <td>Yes</td>\n",
              "      <td>NaN</td>\n",
              "      <td>https://koa.ipac.caltech.edu/applications/KODI...</td>\n",
              "      <td>NaN</td>\n",
              "      <td>No</td>\n",
              "      <td>NaN</td>\n",
              "      <td>NaN</td>\n",
              "      <td>matplotlib (Python);DS9</td>\n",
              "      <td>scipy (Python);pandas (Python)</td>\n",
              "      <td>nano;Google docs;Jupyter Notebook;vim;cat</td>\n",
              "      <td>NaN</td>\n",
              "      <td>NaN</td>\n",
              "      <td>NaN</td>\n",
              "      <td>NaN</td>\n",
              "    </tr>\n",
              "    <tr>\n",
              "      <th>4</th>\n",
              "      <td>2018/08/09 4:26:06 pm EET</td>\n",
              "      <td>Observational</td>\n",
              "      <td>planetary science</td>\n",
              "      <td>No</td>\n",
              "      <td>NaN</td>\n",
              "      <td>NaN</td>\n",
              "      <td>NaN</td>\n",
              "      <td>No</td>\n",
              "      <td>NaN</td>\n",
              "      <td>NaN</td>\n",
              "      <td>matplotlib (Python);DS9</td>\n",
              "      <td>scipy (Python);pandas (Python);emcee (python)</td>\n",
              "      <td>Microsoft Office;nano;Google docs;Mendeley;Jup...</td>\n",
              "      <td>Slack;Google Calendar;GitHub</td>\n",
              "      <td>NaN</td>\n",
              "      <td>NaN</td>\n",
              "      <td>NaN</td>\n",
              "    </tr>\n",
              "  </tbody>\n",
              "</table>\n",
              "</div>"
            ],
            "text/plain": [
              "                   Timestamp What's your field of research?  \\\n",
              "0  2018/08/09 3:26:09 pm EET      Observational;Theoretical   \n",
              "1  2018/08/09 3:30:01 pm EET                    Simulations   \n",
              "2  2018/08/09 3:46:21 pm EET                    Simulations   \n",
              "3  2018/08/09 3:49:43 pm EET                  Observational   \n",
              "4  2018/08/09 4:26:06 pm EET                  Observational   \n",
              "\n",
              "                              What's your expertise?  \\\n",
              "0  Data handling (extraction, integration, stream...   \n",
              "1                         High performance Computing   \n",
              "2  high-redshift galaxies at far infrared and sub...   \n",
              "3                          Quasar Absorption systems   \n",
              "4                                  planetary science   \n",
              "\n",
              "  Have you used public observational datasets before?  \\\n",
              "0                                                Yes    \n",
              "1                                                 No    \n",
              "2                                                Yes    \n",
              "3                                                Yes    \n",
              "4                                                 No    \n",
              "\n",
              "  Which public observational datasets have you used before?  \\\n",
              "0  https://irsa.ipac.caltech.edu/applications/Gator/          \n",
              "1                                                NaN          \n",
              "2  SDSS (https://www.sdss.org/), Herschel (http:/...          \n",
              "3                                                NaN          \n",
              "4                                                NaN          \n",
              "\n",
              "  Any public pre-processed datasets not mentioned above?  \\\n",
              "0                                               Nope       \n",
              "1                                                NaN       \n",
              "2                                                NaN       \n",
              "3  https://koa.ipac.caltech.edu/applications/KODI...       \n",
              "4                                                NaN       \n",
              "\n",
              "  Any published datasets not mentioned above?   \\\n",
              "0                                         Nope   \n",
              "1                                          NaN   \n",
              "2                                          NaN   \n",
              "3                                          NaN   \n",
              "4                                          NaN   \n",
              "\n",
              "  Have you used public simulated datasets before?  \\\n",
              "0                                              No   \n",
              "1                                              No   \n",
              "2                                             Yes   \n",
              "3                                              No   \n",
              "4                                              No   \n",
              "\n",
              "  Which public simulated datasets have you used before?  \\\n",
              "0                                                NaN      \n",
              "1                                                NaN      \n",
              "2  Hubble Frontier Fields lens models (https://ar...      \n",
              "3                                                NaN      \n",
              "4                                                NaN      \n",
              "\n",
              "  If you have created any simulated data and want to share it on our central hub, please share the links or contacts below  \\\n",
              "0                                                NaN                                                                         \n",
              "1                                                NaN                                                                         \n",
              "2                                                NaN                                                                         \n",
              "3                                                NaN                                                                         \n",
              "4                                                NaN                                                                         \n",
              "\n",
              "                                 Data Visualization   \\\n",
              "0  matplotlib (Python);plot.ly (Python);D3js (Jav...   \n",
              "1                                matplotlib (Python)   \n",
              "2  matplotlib (Python);seaborn (Python);DS9;Aladi...   \n",
              "3                            matplotlib (Python);DS9   \n",
              "4                            matplotlib (Python);DS9   \n",
              "\n",
              "                                       Data Analysis  \\\n",
              "0                                    pandas (Python)   \n",
              "1  pandas (Python);keras (python);tensorflow (pyt...   \n",
              "2  sklearn (Python);scipy (Python);pandas (Python...   \n",
              "3                     scipy (Python);pandas (Python)   \n",
              "4      scipy (Python);pandas (Python);emcee (python)   \n",
              "\n",
              "             Editors (code, paper, presentation,...)  \\\n",
              "0  nano;Google docs;Jupyter Notebook;Visual Studi...   \n",
              "1  Microsoft Office;Google docs;Jupyter Notebook;...   \n",
              "2  Microsoft Office;Overleaf;Mendeley;Jupyter Not...   \n",
              "3          nano;Google docs;Jupyter Notebook;vim;cat   \n",
              "4  Microsoft Office;nano;Google docs;Mendeley;Jup...   \n",
              "\n",
              "                                          Management Anything else?   \\\n",
              "0  Slack;Trello;Toggl;Google Calendar;GitHub;Asan...             NaN   \n",
              "1                       Slack;Google Calendar;GitHub             NaN   \n",
              "2                              Slack;Google Calendar             NaN   \n",
              "3                                                NaN             NaN   \n",
              "4                       Slack;Google Calendar;GitHub             NaN   \n",
              "\n",
              "  What do you want to see in the central hub?  Please feel free to write as many things as you want!   \\\n",
              "0  Simple, step-by-step wikis for getting started...                                                    \n",
              "1                                                NaN                                                    \n",
              "2  articles about good practices in code writing,...                                                    \n",
              "3                                                NaN                                                    \n",
              "4                                                NaN                                                    \n",
              "\n",
              "  If you could recommend any new techs to someone, what would it be? Feel free to explain why!  \n",
              "0  Git/Github, and a few syntaxes: Python, SQL, m...                                            \n",
              "1                                                NaN                                            \n",
              "2                                                NaN                                            \n",
              "3                                                NaN                                            \n",
              "4                                                NaN                                            "
            ]
          },
          "metadata": {
            "tags": []
          },
          "execution_count": 81
        }
      ]
    },
    {
      "metadata": {
        "id": "3lfN-XAk0fqH",
        "colab_type": "code",
        "colab": {
          "base_uri": "https://localhost:8080/",
          "height": 339
        },
        "outputId": "bdc93218-e2cc-42eb-cc27-82def8071ec7"
      },
      "cell_type": "code",
      "source": [
        "df.count()"
      ],
      "execution_count": 37,
      "outputs": [
        {
          "output_type": "execute_result",
          "data": {
            "text/plain": [
              "Timestamp                                                                                                                   41\n",
              "What's your field of research?                                                                                              41\n",
              "What's your expertise?                                                                                                      39\n",
              "Have you used public observational datasets before?                                                                         41\n",
              "Which public observational datasets have you used before?                                                                   21\n",
              "Any public pre-processed datasets not mentioned above?                                                                       5\n",
              "Any published datasets not mentioned above?                                                                                  4\n",
              "Have you used public simulated datasets before?                                                                             41\n",
              "Which public simulated datasets have you used before?                                                                        5\n",
              "If you have created any simulated data and want to share it on our central hub, please share the links or contacts below     1\n",
              "Data Visualization                                                                                                          41\n",
              "Data Analysis                                                                                                               39\n",
              "Editors (code, paper, presentation,...)                                                                                     41\n",
              "Management                                                                                                                  40\n",
              "Anything else?                                                                                                               3\n",
              "What do you want to see in the central hub?  Please feel free to write as many things as you want!                          13\n",
              "If you could recommend any new techs to someone, what would it be? Feel free to explain why!                                10\n",
              "dtype: int64"
            ]
          },
          "metadata": {
            "tags": []
          },
          "execution_count": 37
        }
      ]
    },
    {
      "metadata": {
        "id": "_NZC8VlE2TSW",
        "colab_type": "code",
        "colab": {
          "base_uri": "https://localhost:8080/",
          "height": 742
        },
        "outputId": "3b75418b-0cff-4169-9c81-901e464488a2"
      },
      "cell_type": "code",
      "source": [
        "df['Which public observational datasets have you used before?']"
      ],
      "execution_count": 38,
      "outputs": [
        {
          "output_type": "execute_result",
          "data": {
            "text/plain": [
              "0     https://irsa.ipac.caltech.edu/applications/Gator/\n",
              "1                                                   NaN\n",
              "2     SDSS (https://www.sdss.org/), Herschel (http:/...\n",
              "3                                                   NaN\n",
              "4                                                   NaN\n",
              "5                                                   NaN\n",
              "6                                                   NaN\n",
              "7                Chandra, NuSTAR, Fermi/GBM, RXTE, Gaia\n",
              "8     SDSS(https://www.sdss.org/), Catalina(http://n...\n",
              "9                                                   NaN\n",
              "10                                                  NaN\n",
              "11                                                  NaN\n",
              "12                                                 SDSS\n",
              "13                                                  NaN\n",
              "14                                                  NaN\n",
              "15                                                  NaN\n",
              "16                                                  NaN\n",
              "17                                                  NaN\n",
              "18                                                  NaN\n",
              "19                                                 MWSC\n",
              "20                                                  NaN\n",
              "21                        SDSS, Gaia, 2MASS, CFHT-LS...\n",
              "22                                                 SDSS\n",
              "23    SDSS (https://www.sdss.org), Gaia (http://gea....\n",
              "24                                         Planck, WMAP\n",
              "25                   IRAS, WMAP, Planck, Vizier, Lambda\n",
              "26                       https://pla.esac.esa.int/#home\n",
              "27    Planck https://irsa.ipac.caltech.edu/Missions/...\n",
              "28    FF (http://www.stsci.edu/hst/campaigns/frontie...\n",
              "29    Planck Legacy Archive (http://pla.esac.esa.int...\n",
              "30                                                  NaN\n",
              "31                                      SDO, Kepler, K2\n",
              "32    ALMA (https://almascience.nrao.edu/alma-data/a...\n",
              "33    sdss, GALEX, WISE, Hubble, Chandra, Spitzer, I...\n",
              "34                  Data from open exoplanet catalogue.\n",
              "35                                                  NaN\n",
              "36                                                  NaN\n",
              "37                                                  NaN\n",
              "38                                           Gaia, UCAC\n",
              "39    SDSS (https://www.sdss.org/), Gaia (http://gea...\n",
              "40                                                  NaN\n",
              "Name: Which public observational datasets have you used before?, dtype: object"
            ]
          },
          "metadata": {
            "tags": []
          },
          "execution_count": 38
        }
      ]
    },
    {
      "metadata": {
        "id": "nXIdcHVs6-wt",
        "colab_type": "code",
        "colab": {}
      },
      "cell_type": "code",
      "source": [
        "datasets = df['Which public observational datasets have you used before?']\n",
        "\n",
        "\n",
        "\n",
        "def clean_name_link_data(data):\n",
        "  clean_list = []\n",
        "  for index , row in data.iteritems():\n",
        "    if type(row) is str:\n",
        "      for ds in row.split(','):\n",
        "        if 'http' in ds:\n",
        "          if ' ' in ds or '(' in ds:\n",
        "#             print(ds)\n",
        "            clean_list.append(ds)\n",
        "  return clean_list\n",
        "\n",
        "clean_list = clean_name_link_data(datasets)"
      ],
      "execution_count": 0,
      "outputs": []
    },
    {
      "metadata": {
        "id": "A_kvNIUJ-dX1",
        "colab_type": "code",
        "colab": {}
      },
      "cell_type": "code",
      "source": [
        "def get_url(ds):\n",
        "  start = ds.index('http')\n",
        "  end = len(ds)\n",
        "  if ')' in ds:\n",
        "    end = ds.index(')')\n",
        "  return ds[start:end]\n",
        "\n",
        "def get_name(ds):\n",
        "  end = ds.index('http')\n",
        "  if '(' in ds:\n",
        "    end = ds.index('(')\n",
        "  return ds[:end].strip()"
      ],
      "execution_count": 0,
      "outputs": []
    },
    {
      "metadata": {
        "id": "HUMEahCF-vPy",
        "colab_type": "code",
        "colab": {
          "base_uri": "https://localhost:8080/",
          "height": 370
        },
        "outputId": "bf1edfa1-b9d8-4faa-e357-a80425ab8e5a"
      },
      "cell_type": "code",
      "source": [
        "urls = list(map(get_url, clean_list))\n",
        "urls"
      ],
      "execution_count": 68,
      "outputs": [
        {
          "output_type": "execute_result",
          "data": {
            "text/plain": [
              "['https://www.sdss.org/',\n",
              " 'http://archives.esac.esa.int/hsa/whsa/',\n",
              " 'http://www.astrodeep.eu/',\n",
              " 'https://archive.stsci.edu/index.html',\n",
              " 'https://www.sdss.org/',\n",
              " 'http://nesssi.cacr.caltech.edu/DataRelease/',\n",
              " 'http://www.cadc-ccda.hia-iha.nrc-cnrc.gc.ca/en/cfht/',\n",
              " 'https://www.sdss.org',\n",
              " 'http://gea.esac.esa.int/archive/',\n",
              " 'http://www.fallingstar.com/home.php',\n",
              " 'http://www.astrouw.edu.pl/asas/?page=acvs',\n",
              " 'http://ogledb.astrouw.edu.pl/~ogle/CVS/',\n",
              " 'https://irsa.ipac.caltech.edu/Missions/planck.html',\n",
              " 'https://lambda.gsfc.nasa.gov/product/map/dr5/',\n",
              " 'http://www.stsci.edu/hst/campaigns/frontier-fields/FF-Data',\n",
              " 'https://archive.stsci.edu/prepds/clash/',\n",
              " 'http://pla.esac.esa.int/pla/',\n",
              " 'https://lambda.gsfc.nasa.gov/',\n",
              " 'https://almascience.nrao.edu/alma-data/archive',\n",
              " 'https://www.sdss.org/',\n",
              " 'http://gea.esac.esa.int/archive/']"
            ]
          },
          "metadata": {
            "tags": []
          },
          "execution_count": 68
        }
      ]
    },
    {
      "metadata": {
        "id": "H7Gp1UJq-2pu",
        "colab_type": "code",
        "colab": {
          "base_uri": "https://localhost:8080/",
          "height": 370
        },
        "outputId": "5e977982-6c25-4e27-ca27-aecc658715fd"
      },
      "cell_type": "code",
      "source": [
        "\n",
        "names = list(map(get_name, clean_list))\n",
        "names"
      ],
      "execution_count": 69,
      "outputs": [
        {
          "output_type": "execute_result",
          "data": {
            "text/plain": [
              "['SDSS',\n",
              " 'Herschel',\n",
              " 'Astrodeep',\n",
              " 'MAST',\n",
              " 'SDSS',\n",
              " 'Catalina',\n",
              " 'SNLS',\n",
              " 'SDSS',\n",
              " 'Gaia',\n",
              " 'ATLAS',\n",
              " 'ASAS',\n",
              " 'OGLE',\n",
              " 'Planck',\n",
              " 'WMAP',\n",
              " 'FF',\n",
              " 'CLASH',\n",
              " 'Planck Legacy Archive',\n",
              " 'NASA LAMBDA',\n",
              " 'ALMA',\n",
              " 'SDSS',\n",
              " 'Gaia']"
            ]
          },
          "metadata": {
            "tags": []
          },
          "execution_count": 69
        }
      ]
    },
    {
      "metadata": {
        "id": "OgvIwian__My",
        "colab_type": "code",
        "colab": {}
      },
      "cell_type": "code",
      "source": [
        "def render_row(name, kind, url):\n",
        "  return '''<tr>\n",
        "  <td>{0}</td>\n",
        "  <td>{1}</td>\n",
        "  <td><a href=\"{2}\">{2}</a></td>\n",
        "</tr>'''.format(name, kind, url)\n"
      ],
      "execution_count": 0,
      "outputs": []
    },
    {
      "metadata": {
        "id": "kDB4WOQyARYn",
        "colab_type": "code",
        "colab": {
          "base_uri": "https://localhost:8080/",
          "height": 1445
        },
        "outputId": "c7408e0b-c4d8-4a87-90a5-680f2ee0cbd1"
      },
      "cell_type": "code",
      "source": [
        "seen_names = set()\n",
        "\n",
        "def print_rows(names, urls, kind):\n",
        "  for name, url in zip(names, urls):\n",
        "    if name not in seen_names:\n",
        "      seen_names.add(name)\n",
        "      print(render_row(name, kind, url))\n",
        "\n",
        "print_rows(names, urls, 'Observable')"
      ],
      "execution_count": 82,
      "outputs": [
        {
          "output_type": "stream",
          "text": [
            "<tr>\n",
            "  <td>SDSS</td>\n",
            "  <td>Observable</td>\n",
            "  <td><a href=\"https://www.sdss.org/\">https://www.sdss.org/</a></td>\n",
            "</tr>\n",
            "<tr>\n",
            "  <td>Herschel</td>\n",
            "  <td>Observable</td>\n",
            "  <td><a href=\"http://archives.esac.esa.int/hsa/whsa/\">http://archives.esac.esa.int/hsa/whsa/</a></td>\n",
            "</tr>\n",
            "<tr>\n",
            "  <td>Astrodeep</td>\n",
            "  <td>Observable</td>\n",
            "  <td><a href=\"http://www.astrodeep.eu/\">http://www.astrodeep.eu/</a></td>\n",
            "</tr>\n",
            "<tr>\n",
            "  <td>MAST</td>\n",
            "  <td>Observable</td>\n",
            "  <td><a href=\"https://archive.stsci.edu/index.html\">https://archive.stsci.edu/index.html</a></td>\n",
            "</tr>\n",
            "<tr>\n",
            "  <td>Catalina</td>\n",
            "  <td>Observable</td>\n",
            "  <td><a href=\"http://nesssi.cacr.caltech.edu/DataRelease/\">http://nesssi.cacr.caltech.edu/DataRelease/</a></td>\n",
            "</tr>\n",
            "<tr>\n",
            "  <td>SNLS</td>\n",
            "  <td>Observable</td>\n",
            "  <td><a href=\"http://www.cadc-ccda.hia-iha.nrc-cnrc.gc.ca/en/cfht/\">http://www.cadc-ccda.hia-iha.nrc-cnrc.gc.ca/en/cfht/</a></td>\n",
            "</tr>\n",
            "<tr>\n",
            "  <td>Gaia</td>\n",
            "  <td>Observable</td>\n",
            "  <td><a href=\"http://gea.esac.esa.int/archive/\">http://gea.esac.esa.int/archive/</a></td>\n",
            "</tr>\n",
            "<tr>\n",
            "  <td>ATLAS</td>\n",
            "  <td>Observable</td>\n",
            "  <td><a href=\"http://www.fallingstar.com/home.php\">http://www.fallingstar.com/home.php</a></td>\n",
            "</tr>\n",
            "<tr>\n",
            "  <td>ASAS</td>\n",
            "  <td>Observable</td>\n",
            "  <td><a href=\"http://www.astrouw.edu.pl/asas/?page=acvs\">http://www.astrouw.edu.pl/asas/?page=acvs</a></td>\n",
            "</tr>\n",
            "<tr>\n",
            "  <td>OGLE</td>\n",
            "  <td>Observable</td>\n",
            "  <td><a href=\"http://ogledb.astrouw.edu.pl/~ogle/CVS/\">http://ogledb.astrouw.edu.pl/~ogle/CVS/</a></td>\n",
            "</tr>\n",
            "<tr>\n",
            "  <td>Planck</td>\n",
            "  <td>Observable</td>\n",
            "  <td><a href=\"https://irsa.ipac.caltech.edu/Missions/planck.html\">https://irsa.ipac.caltech.edu/Missions/planck.html</a></td>\n",
            "</tr>\n",
            "<tr>\n",
            "  <td>WMAP</td>\n",
            "  <td>Observable</td>\n",
            "  <td><a href=\"https://lambda.gsfc.nasa.gov/product/map/dr5/\">https://lambda.gsfc.nasa.gov/product/map/dr5/</a></td>\n",
            "</tr>\n",
            "<tr>\n",
            "  <td>FF</td>\n",
            "  <td>Observable</td>\n",
            "  <td><a href=\"http://www.stsci.edu/hst/campaigns/frontier-fields/FF-Data\">http://www.stsci.edu/hst/campaigns/frontier-fields/FF-Data</a></td>\n",
            "</tr>\n",
            "<tr>\n",
            "  <td>CLASH</td>\n",
            "  <td>Observable</td>\n",
            "  <td><a href=\"https://archive.stsci.edu/prepds/clash/\">https://archive.stsci.edu/prepds/clash/</a></td>\n",
            "</tr>\n",
            "<tr>\n",
            "  <td>Planck Legacy Archive</td>\n",
            "  <td>Observable</td>\n",
            "  <td><a href=\"http://pla.esac.esa.int/pla/\">http://pla.esac.esa.int/pla/</a></td>\n",
            "</tr>\n",
            "<tr>\n",
            "  <td>NASA LAMBDA</td>\n",
            "  <td>Observable</td>\n",
            "  <td><a href=\"https://lambda.gsfc.nasa.gov/\">https://lambda.gsfc.nasa.gov/</a></td>\n",
            "</tr>\n",
            "<tr>\n",
            "  <td>ALMA</td>\n",
            "  <td>Observable</td>\n",
            "  <td><a href=\"https://almascience.nrao.edu/alma-data/archive\">https://almascience.nrao.edu/alma-data/archive</a></td>\n",
            "</tr>\n"
          ],
          "name": "stdout"
        }
      ]
    },
    {
      "metadata": {
        "id": "otoiDSeQBqET",
        "colab_type": "text"
      },
      "cell_type": "markdown",
      "source": [
        "# Do same for simulated datasets"
      ]
    },
    {
      "metadata": {
        "id": "7Zlw6h5ZB5hd",
        "colab_type": "code",
        "colab": {
          "base_uri": "https://localhost:8080/",
          "height": 185
        },
        "outputId": "c29c0b9c-64d5-4e4f-e091-2808e76b01b3"
      },
      "cell_type": "code",
      "source": [
        "sim_datasets = df['Which public simulated datasets have you used before?']\n",
        "\n",
        "clean_sim_list = clean_name_link_data(sim_datasets)\n",
        "\n",
        "sim_urls = list(map(get_url, clean_sim_list))\n",
        "\n",
        "sim_names = list(map(get_name, clean_sim_list))\n",
        "\n",
        "print_rows(sim_names, sim_urls, 'Simulated')"
      ],
      "execution_count": 87,
      "outputs": [
        {
          "output_type": "stream",
          "text": [
            "<tr>\n",
            "  <td>Hubble Frontier Fields lens models</td>\n",
            "  <td>Simulated</td>\n",
            "  <td><a href=\"https://archive.stsci.edu/prepds/frontier/lensmodels/\">https://archive.stsci.edu/prepds/frontier/lensmodels/</a></td>\n",
            "</tr>\n",
            "<tr>\n",
            "  <td>SIDES simulation</td>\n",
            "  <td>Simulated</td>\n",
            "  <td><a href=\"http://cesam.lam.fr/sides/\">http://cesam.lam.fr/sides/</a></td>\n",
            "</tr>\n"
          ],
          "name": "stdout"
        }
      ]
    },
    {
      "metadata": {
        "id": "iSaKakt_B993",
        "colab_type": "code",
        "colab": {
          "base_uri": "https://localhost:8080/",
          "height": 370
        },
        "outputId": "5f73a4d5-e0e0-4699-e700-85eecafbb381"
      },
      "cell_type": "code",
      "source": [
        "sim_names"
      ],
      "execution_count": 84,
      "outputs": [
        {
          "output_type": "execute_result",
          "data": {
            "text/plain": [
              "['SDSS',\n",
              " 'Herschel',\n",
              " 'Astrodeep',\n",
              " 'MAST',\n",
              " 'SDSS',\n",
              " 'Catalina',\n",
              " 'SNLS',\n",
              " 'SDSS',\n",
              " 'Gaia',\n",
              " 'ATLAS',\n",
              " 'ASAS',\n",
              " 'OGLE',\n",
              " 'Planck',\n",
              " 'WMAP',\n",
              " 'FF',\n",
              " 'CLASH',\n",
              " 'Planck Legacy Archive',\n",
              " 'NASA LAMBDA',\n",
              " 'ALMA',\n",
              " 'SDSS',\n",
              " 'Gaia']"
            ]
          },
          "metadata": {
            "tags": []
          },
          "execution_count": 84
        }
      ]
    },
    {
      "metadata": {
        "id": "vTEwML-laKGb",
        "colab_type": "code",
        "colab": {
          "base_uri": "https://localhost:8080/",
          "height": 722
        },
        "outputId": "e638a9be-461f-4b14-828d-f0fbefdfd1a6"
      },
      "cell_type": "code",
      "source": [
        "df['Which public simulated datasets have you used before?']"
      ],
      "execution_count": 85,
      "outputs": [
        {
          "output_type": "execute_result",
          "data": {
            "text/plain": [
              "0                                                   NaN\n",
              "1                                                   NaN\n",
              "2     Hubble Frontier Fields lens models (https://ar...\n",
              "3                                                   NaN\n",
              "4                                                   NaN\n",
              "5                                                   NaN\n",
              "6                                                   NaN\n",
              "7                                                   NaN\n",
              "8                                                   NaN\n",
              "9                                                   NaN\n",
              "10                                                  NaN\n",
              "11                                                  NaN\n",
              "12    Bolshoi simulation (but collaborator sorted it...\n",
              "13                                                  NaN\n",
              "14                                                  NaN\n",
              "15                                    EAGLE simulations\n",
              "16                                                  NaN\n",
              "17                                                  NaN\n",
              "18                                                  NaN\n",
              "19                                                  NaN\n",
              "20                                                  NaN\n",
              "21                                                  NaN\n",
              "22                                                  NaN\n",
              "23            http://stev.oapd.inaf.it/cgi-bin/trilegal\n",
              "24                                                  NaN\n",
              "25                                               Planck\n",
              "26                                                  NaN\n",
              "27                                                  NaN\n",
              "28                                                  NaN\n",
              "29                                                  NaN\n",
              "30                                                  NaN\n",
              "31                                                  NaN\n",
              "32                                                  NaN\n",
              "33                                                  NaN\n",
              "34                                                  NaN\n",
              "35                                                  NaN\n",
              "36                                                  NaN\n",
              "37                                                  NaN\n",
              "38                                                  NaN\n",
              "39                                                  NaN\n",
              "40                                                  NaN\n",
              "Name: Which public simulated datasets have you used before?, dtype: object"
            ]
          },
          "metadata": {
            "tags": []
          },
          "execution_count": 85
        }
      ]
    },
    {
      "metadata": {
        "id": "avJXUH74nwp9",
        "colab_type": "text"
      },
      "cell_type": "markdown",
      "source": [
        "# Extract Tools data"
      ]
    },
    {
      "metadata": {
        "id": "V5-SCDGOaata",
        "colab_type": "code",
        "colab": {
          "base_uri": "https://localhost:8080/",
          "height": 252
        },
        "outputId": "0ccee0d0-b1d5-42db-d9db-39866243b43a"
      },
      "cell_type": "code",
      "source": [
        "df.columns"
      ],
      "execution_count": 88,
      "outputs": [
        {
          "output_type": "execute_result",
          "data": {
            "text/plain": [
              "Index(['Timestamp', 'What's your field of research?', 'What's your expertise?',\n",
              "       'Have you used public observational datasets before?',\n",
              "       'Which public observational datasets have you used before?',\n",
              "       'Any public pre-processed datasets not mentioned above?',\n",
              "       'Any published datasets not mentioned above? ',\n",
              "       'Have you used public simulated datasets before?',\n",
              "       'Which public simulated datasets have you used before?',\n",
              "       'If you have created any simulated data and want to share it on our central hub, please share the links or contacts below',\n",
              "       'Data Visualization ', 'Data Analysis',\n",
              "       'Editors (code, paper, presentation,...)', 'Management',\n",
              "       'Anything else? ',\n",
              "       'What do you want to see in the central hub?  Please feel free to write as many things as you want! ',\n",
              "       'If you could recommend any new techs to someone, what would it be? Feel free to explain why!'],\n",
              "      dtype='object')"
            ]
          },
          "metadata": {
            "tags": []
          },
          "execution_count": 88
        }
      ]
    },
    {
      "metadata": {
        "id": "1mzZWpLEoKKk",
        "colab_type": "code",
        "colab": {}
      },
      "cell_type": "code",
      "source": [
        "from collections import Counter"
      ],
      "execution_count": 0,
      "outputs": []
    },
    {
      "metadata": {
        "id": "RLr7JYCrpj-l",
        "colab_type": "code",
        "colab": {}
      },
      "cell_type": "code",
      "source": [
        "import functools\n"
      ],
      "execution_count": 0,
      "outputs": []
    },
    {
      "metadata": {
        "id": "vF84gSHro6UO",
        "colab_type": "code",
        "colab": {}
      },
      "cell_type": "code",
      "source": [
        "def split_tools(tools):\n",
        "  if type(tools) is str:\n",
        "    return tools.split(';')\n",
        "  else:\n",
        "    return []\n",
        "\n",
        "\n",
        "tools_list = functools.reduce(lambda x,y: x+y, df['Data Analysis'].apply(split_tools)) "
      ],
      "execution_count": 0,
      "outputs": []
    },
    {
      "metadata": {
        "id": "4cFQU-hyn404",
        "colab_type": "code",
        "colab": {}
      },
      "cell_type": "code",
      "source": [
        "tools_counts = Counter(tools_list).most_common()"
      ],
      "execution_count": 0,
      "outputs": []
    },
    {
      "metadata": {
        "id": "9jG2Oab3srZF",
        "colab_type": "code",
        "colab": {}
      },
      "cell_type": "code",
      "source": [
        "def render_tool_row(name, count, url):\n",
        "  return '''<tr>\n",
        "  <td>{0}</td>\n",
        "  <td>{1}</td>\n",
        "  <td><a href=\"{2}\">More info</a></td>\n",
        "</tr>'''.format(name, count, url)\n"
      ],
      "execution_count": 0,
      "outputs": []
    },
    {
      "metadata": {
        "id": "FjKUuuRwt3aO",
        "colab_type": "code",
        "colab": {}
      },
      "cell_type": "code",
      "source": [
        "import urllib.parse"
      ],
      "execution_count": 0,
      "outputs": []
    },
    {
      "metadata": {
        "id": "n5ogcdqFttdq",
        "colab_type": "code",
        "colab": {}
      },
      "cell_type": "code",
      "source": [
        "def googleify_tool(name):\n",
        "  query = urllib.parse.urlencode({'q':name})\n",
        "  return 'https://www.google.co.uk/search?'+ query"
      ],
      "execution_count": 0,
      "outputs": []
    },
    {
      "metadata": {
        "id": "RHFXC4LMxuLU",
        "colab_type": "code",
        "colab": {
          "base_uri": "https://localhost:8080/",
          "height": 34
        },
        "outputId": "3de2b425-a4cc-41e2-ad12-53917738e4a7"
      },
      "cell_type": "code",
      "source": [
        "30/5"
      ],
      "execution_count": 122,
      "outputs": [
        {
          "output_type": "execute_result",
          "data": {
            "text/plain": [
              "6.0"
            ]
          },
          "metadata": {
            "tags": []
          },
          "execution_count": 122
        }
      ]
    },
    {
      "metadata": {
        "id": "i4OpWVxhn7T7",
        "colab_type": "code",
        "colab": {
          "base_uri": "https://localhost:8080/",
          "height": 1025
        },
        "outputId": "0780a812-2e0b-4e70-e8bf-b6e975b7ea6a"
      },
      "cell_type": "code",
      "source": [
        "for tool, count in tools_counts:\n",
        "  if count > 1:\n",
        "    popularity = min(int(count/4),5) * '🚀'\n",
        "    print(render_tool_row(tool, popularity, googleify_tool(tool)))\n",
        "    "
      ],
      "execution_count": 126,
      "outputs": [
        {
          "output_type": "stream",
          "text": [
            "<tr>\n",
            "  <td>scipy (Python)</td>\n",
            "  <td>🚀🚀🚀🚀🚀</td>\n",
            "  <td><a href=\"https://www.google.co.uk/search?q=scipy+%28Python%29\">More info</a></td>\n",
            "</tr>\n",
            "<tr>\n",
            "  <td>pandas (Python)</td>\n",
            "  <td>🚀🚀🚀🚀</td>\n",
            "  <td><a href=\"https://www.google.co.uk/search?q=pandas+%28Python%29\">More info</a></td>\n",
            "</tr>\n",
            "<tr>\n",
            "  <td>emcee (python)</td>\n",
            "  <td>🚀🚀🚀</td>\n",
            "  <td><a href=\"https://www.google.co.uk/search?q=emcee+%28python%29\">More info</a></td>\n",
            "</tr>\n",
            "<tr>\n",
            "  <td>sklearn (Python)</td>\n",
            "  <td>🚀🚀🚀</td>\n",
            "  <td><a href=\"https://www.google.co.uk/search?q=sklearn+%28Python%29\">More info</a></td>\n",
            "</tr>\n",
            "<tr>\n",
            "  <td>numpy (python)</td>\n",
            "  <td>🚀🚀🚀</td>\n",
            "  <td><a href=\"https://www.google.co.uk/search?q=numpy+%28python%29\">More info</a></td>\n",
            "</tr>\n",
            "<tr>\n",
            "  <td>tensorflow (python, Java, C, Go)</td>\n",
            "  <td>🚀🚀</td>\n",
            "  <td><a href=\"https://www.google.co.uk/search?q=tensorflow+%28python%2C+Java%2C+C%2C+Go%29\">More info</a></td>\n",
            "</tr>\n",
            "<tr>\n",
            "  <td>astropy (python)</td>\n",
            "  <td>🚀🚀</td>\n",
            "  <td><a href=\"https://www.google.co.uk/search?q=astropy+%28python%29\">More info</a></td>\n",
            "</tr>\n",
            "<tr>\n",
            "  <td>Anaconda</td>\n",
            "  <td>🚀🚀</td>\n",
            "  <td><a href=\"https://www.google.co.uk/search?q=Anaconda\">More info</a></td>\n",
            "</tr>\n",
            "<tr>\n",
            "  <td>keras (python)</td>\n",
            "  <td>🚀</td>\n",
            "  <td><a href=\"https://www.google.co.uk/search?q=keras+%28python%29\">More info</a></td>\n",
            "</tr>\n",
            "<tr>\n",
            "  <td>CAMB (fortran)</td>\n",
            "  <td>🚀</td>\n",
            "  <td><a href=\"https://www.google.co.uk/search?q=CAMB+%28fortran%29\">More info</a></td>\n",
            "</tr>\n",
            "<tr>\n",
            "  <td>CosmoMC (python, fortran)</td>\n",
            "  <td>🚀</td>\n",
            "  <td><a href=\"https://www.google.co.uk/search?q=CosmoMC+%28python%2C+fortran%29\">More info</a></td>\n",
            "</tr>\n",
            "<tr>\n",
            "  <td>Healpix (python, idl, fortran)</td>\n",
            "  <td>🚀</td>\n",
            "  <td><a href=\"https://www.google.co.uk/search?q=Healpix+%28python%2C+idl%2C+fortran%29\">More info</a></td>\n",
            "</tr>\n"
          ],
          "name": "stdout"
        }
      ]
    },
    {
      "metadata": {
        "id": "85e9LaLKvzeY",
        "colab_type": "code",
        "colab": {}
      },
      "cell_type": "code",
      "source": [
        ""
      ],
      "execution_count": 0,
      "outputs": []
    }
  ]
}